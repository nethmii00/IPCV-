{
 "cells": [
  {
   "cell_type": "code",
   "execution_count": 1,
   "metadata": {},
   "outputs": [
    {
     "name": "stdout",
     "output_type": "stream",
     "text": [
      "Requirement already satisfied: Pillow in c:\\users\\sasra\\downloads\\cs study\\dba\\im\\lib\\site-packages (10.2.0)\n",
      "Note: you may need to restart the kernel to use updated packages.\n"
     ]
    },
    {
     "name": "stderr",
     "output_type": "stream",
     "text": [
      "\n",
      "[notice] A new release of pip is available: 23.3.2 -> 24.0\n",
      "[notice] To update, run: C:\\Users\\sasra\\Downloads\\CS Study\\DBA\\IM\\Scripts\\python.exe -m pip install --upgrade pip\n"
     ]
    }
   ],
   "source": [
    "pip install Pillow"
   ]
  },
  {
   "cell_type": "code",
   "execution_count": 1,
   "metadata": {},
   "outputs": [
    {
     "name": "stdout",
     "output_type": "stream",
     "text": [
      "WARNING:tensorflow:From C:\\Users\\sasra\\Downloads\\CS Study\\DBA\\IM\\Lib\\site-packages\\keras\\src\\losses.py:2976: The name tf.losses.sparse_softmax_cross_entropy is deprecated. Please use tf.compat.v1.losses.sparse_softmax_cross_entropy instead.\n",
      "\n",
      "WARNING:tensorflow:From C:\\Users\\sasra\\Downloads\\CS Study\\DBA\\IM\\Lib\\site-packages\\keras\\src\\backend.py:1398: The name tf.executing_eagerly_outside_functions is deprecated. Please use tf.compat.v1.executing_eagerly_outside_functions instead.\n",
      "\n",
      "WARNING:tensorflow:From C:\\Users\\sasra\\Downloads\\CS Study\\DBA\\IM\\Lib\\site-packages\\keras\\src\\layers\\pooling\\max_pooling2d.py:161: The name tf.nn.max_pool is deprecated. Please use tf.nn.max_pool2d instead.\n",
      "\n",
      "WARNING:tensorflow:From C:\\Users\\sasra\\Downloads\\CS Study\\DBA\\IM\\Lib\\site-packages\\keras\\src\\optimizers\\__init__.py:309: The name tf.train.Optimizer is deprecated. Please use tf.compat.v1.train.Optimizer instead.\n",
      "\n",
      "Found 853 images belonging to 2 classes.\n",
      "Found 213 images belonging to 2 classes.\n",
      "Epoch 1/5\n",
      "WARNING:tensorflow:From C:\\Users\\sasra\\Downloads\\CS Study\\DBA\\IM\\Lib\\site-packages\\keras\\src\\utils\\tf_utils.py:492: The name tf.ragged.RaggedTensorValue is deprecated. Please use tf.compat.v1.ragged.RaggedTensorValue instead.\n",
      "\n",
      "WARNING:tensorflow:From C:\\Users\\sasra\\Downloads\\CS Study\\DBA\\IM\\Lib\\site-packages\\keras\\src\\engine\\base_layer_utils.py:384: The name tf.executing_eagerly_outside_functions is deprecated. Please use tf.compat.v1.executing_eagerly_outside_functions instead.\n",
      "\n",
      "27/27 [==============================] - 66s 2s/step - loss: 0.5243 - accuracy: 0.7761 - val_loss: 0.4586 - val_accuracy: 0.7981\n",
      "Epoch 2/5\n",
      "27/27 [==============================] - 65s 2s/step - loss: 0.4428 - accuracy: 0.7843 - val_loss: 0.4363 - val_accuracy: 0.8028\n",
      "Epoch 3/5\n",
      "27/27 [==============================] - 69s 3s/step - loss: 0.4360 - accuracy: 0.7913 - val_loss: 0.4198 - val_accuracy: 0.8122\n",
      "Epoch 4/5\n",
      "27/27 [==============================] - 73s 3s/step - loss: 0.4069 - accuracy: 0.8007 - val_loss: 0.4263 - val_accuracy: 0.8263\n",
      "Epoch 5/5\n",
      "27/27 [==============================] - 73s 3s/step - loss: 0.4074 - accuracy: 0.8030 - val_loss: 0.4150 - val_accuracy: 0.8263\n"
     ]
    },
    {
     "name": "stderr",
     "output_type": "stream",
     "text": [
      "C:\\Users\\sasra\\Downloads\\CS Study\\DBA\\IM\\Lib\\site-packages\\keras\\src\\engine\\training.py:3103: UserWarning: You are saving your model as an HDF5 file via `model.save()`. This file format is considered legacy. We recommend using instead the native Keras format, e.g. `model.save('my_model.keras')`.\n",
      "  saving_api.save_model(\n"
     ]
    }
   ],
   "source": [
    "import tensorflow as tf\n",
    "from tensorflow.keras.preprocessing.image import ImageDataGenerator, load_img, img_to_array\n",
    "import os\n",
    "from PIL import Image\n",
    "\n",
    "\n",
    "# Get the absolute path to the dataset\n",
    "dataset_path = r'C:\\Users\\sasra\\Downloads\\CS Study\\DBA\\dataset'\n",
    "absolute_path = os.path.abspath(dataset_path)\n",
    "\n",
    "# Load the pre-trained VGG16 model\n",
    "base_model = tf.keras.applications.VGG16(weights='imagenet', include_top=False, input_shape=(224, 224, 3))\n",
    "base_model.trainable = False\n",
    "\n",
    "# Create a custom model for fine-tuning\n",
    "model = tf.keras.Sequential([\n",
    "    base_model,\n",
    "    # reduce the complexity of the prev tensor derived from the input\n",
    "    # by averaging the pixel distributions. So learning will be easy\n",
    "    tf.keras.layers.GlobalAveragePooling2D(),\n",
    "    tf.keras.layers.Dense(256, activation='relu'),\n",
    "    # randomly deactivate nerouns to prevent overfitting on features by \n",
    "    # some neurons. 0.5 represent the % of neurons impacted by the dropout \n",
    "    #feature\n",
    "    tf.keras.layers.Dropout(0.5),\n",
    "    tf.keras.layers.Dense(1, activation='sigmoid')  # Binary classification (gun or not)\n",
    "])\n",
    "\n",
    "# Compile the model\n",
    "model.compile(optimizer='adam', loss='binary_crossentropy', metrics=['accuracy'])\n",
    "\n",
    "# Data preparation with data augmentation. Larger batch sizes are good to\n",
    "# make the models to be more mature. However, it could lead to stuck due to\n",
    "# memory shortages. Hence, trial and error expertimentations are required.\n",
    "batch_size = 32\n",
    "# augment the images on the go as per the specs given during the training\n",
    "train_datagen = ImageDataGenerator(\n",
    "    rescale=1./255,\n",
    "    validation_split=0.2,\n",
    "    rotation_range=20,\n",
    "    width_shift_range=0.2,\n",
    "    height_shift_range=0.2,\n",
    "    shear_range=0.2,\n",
    "    zoom_range=0.2,\n",
    "    horizontal_flip=True,\n",
    "    fill_mode='nearest'\n",
    ")\n",
    "# configured pipeline of datagenerator is directly linked to the folder\n",
    "train_generator = train_datagen.flow_from_directory(\n",
    "    absolute_path,\n",
    "    target_size=(224, 224),\n",
    "    batch_size=batch_size,\n",
    "    # augment the images considering correct and wrong representations.\n",
    "    # this allow the model to learn with a comparative assesment.\n",
    "    class_mode='binary',\n",
    "    # can be either training or validation. In validation mode, adjust the\n",
    "    # images to support the inferencing purposes.\n",
    "    subset='training'\n",
    ")\n",
    "\n",
    "# arrangement of the validation dataset.\n",
    "validation_generator = train_datagen.flow_from_directory(\n",
    "    absolute_path,\n",
    "    target_size=(224, 224),\n",
    "    batch_size=batch_size,\n",
    "    class_mode='binary',\n",
    "    subset='validation'\n",
    ")\n",
    "\n",
    "# Train the model with augmented data\n",
    "model.fit(\n",
    "    train_generator,\n",
    "    epochs=5,\n",
    "    validation_data=validation_generator\n",
    ")\n",
    "\n",
    "# Save the model\n",
    "model.save('custom_gun_model.h5')\n"
   ]
  },
  {
   "cell_type": "markdown",
   "metadata": {},
   "source": []
  },
  {
   "cell_type": "code",
   "execution_count": 6,
   "metadata": {},
   "outputs": [
    {
     "name": "stdout",
     "output_type": "stream",
     "text": [
      "1/1 [==============================] - 0s 107ms/step\n",
      "Prediction: No Gun Detected\n"
     ]
    }
   ],
   "source": [
    "# Test the prediction capability with a new image\n",
    "new_image_path = r'C:\\Users\\sasra\\Downloads\\CS Study\\DBA\\dataset\\validation\\gun\\armas517.jpg'  \n",
    "# Replace with the path to your new image\n",
    "\n",
    "# Load the new image. It also need to be pre-process as to suite with the\n",
    "#configured model. Becz model has been trained with configured images and\n",
    "# we need the same during the inferencing as well.\n",
    "\n",
    "new_image = load_img(new_image_path, target_size=(224, 224))\n",
    "new_image_array = img_to_array(new_image)\n",
    "# format the image data as needed by a deep learning model\n",
    "new_image_array = tf.expand_dims(new_image_array, 0)  # Add batch dimension\n",
    "new_image_array /= 255.0  # Rescale pixel values to [0, 1]\n",
    "\n",
    "# Make predictions\n",
    "prediction = model.predict(new_image_array)\n",
    "\n",
    "# Display the prediction\n",
    "if prediction > 0.5:\n",
    "    print(\"Prediction: Gun Detected\")\n",
    "else:\n",
    "    print(\"Prediction: No Gun Detected\")\n"
   ]
  },
  {
   "cell_type": "code",
   "execution_count": null,
   "metadata": {},
   "outputs": [],
   "source": []
  }
 ],
 "metadata": {
  "kernelspec": {
   "display_name": "IM",
   "language": "python",
   "name": "im"
  },
  "language_info": {
   "codemirror_mode": {
    "name": "ipython",
    "version": 3
   },
   "file_extension": ".py",
   "mimetype": "text/x-python",
   "name": "python",
   "nbconvert_exporter": "python",
   "pygments_lexer": "ipython3",
   "version": "3.11.4"
  }
 },
 "nbformat": 4,
 "nbformat_minor": 4
}
